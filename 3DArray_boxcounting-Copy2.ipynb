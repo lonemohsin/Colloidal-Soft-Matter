{
 "cells": [
  {
   "cell_type": "code",
   "execution_count": 1,
   "id": "c913bc92",
   "metadata": {},
   "outputs": [],
   "source": [
    "import numpy as np\n",
    "import matplotlib.pyplot as plt\n",
    "import cv2\n",
    "import math\n",
    "import pylab as pl\n",
    "import glob"
   ]
  },
  {
   "cell_type": "markdown",
   "id": "3ca5044e",
   "metadata": {},
   "source": [
    "# Box Counting for 3D arrays"
   ]
  },
  {
   "cell_type": "markdown",
   "id": "4eb1fa94",
   "metadata": {},
   "source": [
    "## Instructions for using the code\n",
    "\n",
    "Image Preprocessing\n",
    "- First load the imagestack by providing the path, e.g. file=r\"path\\\\*.jpg\"\n",
    "- Use the same variable of the imagestack (in this case file) and use function preprocess(file) for preprocessing the images\n",
    "- Steps involved in preprocessing are:\n",
    "    1. Converting the images to grayscale from rgb using togray() function\n",
    "    2. Thresholding the grayscale images to binary to seperate background and foreground pixels with values 0 and 255 respectively.\n",
    "    3. The function preprocess returns the binarized imagestack.\n",
    "    \n",
    "Calculation of fractal dimension (df) using box counting approach\n",
    "Using function boxcount() to calculate the df by providing the output of the previous function i.e., imagestack as the argument for the function. For example, if varialbe \"array3d=preprocess(file)\", then use boxcount(array3d).\n",
    "- Images are padded to the maximum length of the array. For example, if array3d is of size (512,500,300), it will be padded as (512,512,512)"
   ]
  },
  {
   "cell_type": "code",
   "execution_count": 2,
   "id": "89d929f9",
   "metadata": {},
   "outputs": [],
   "source": [
    "file=r\"E:\\\\Mtech\\\\Project\\\\imagestack1\\\\*.jpg\""
   ]
  },
  {
   "cell_type": "code",
   "execution_count": 3,
   "id": "38dbd942",
   "metadata": {},
   "outputs": [],
   "source": [
    "image=file"
   ]
  },
  {
   "cell_type": "code",
   "execution_count": 4,
   "id": "97bdfc59",
   "metadata": {},
   "outputs": [],
   "source": [
    "def preprocess(image):\n",
    "    glob.glob(image)\n",
    "    images=[pl.imread(image) for image in glob.glob(file)]\n",
    "    # Function to convert rgb image to grayscale\n",
    "    def togray(rgbimage):\n",
    "        r,g,b=rgbimage[:,:,0],rgbimage[:,:,1],rgbimage[:,:,2]\n",
    "        gray=0.2989*r+0.5870*g+0.1140*b\n",
    "        return gray\n",
    "    gray_images=[togray(image) for image in images]\n",
    "    \n",
    "    # Function to threshold images to binary (S=40)\n",
    "    def threshold(img):\n",
    "        a,t1=cv2.threshold(img,40,255,cv2.THRESH_BINARY)\n",
    "        return t1\n",
    "\n",
    "    thresh_images=[threshold(j) for j in gray_images]\n",
    "#     If shape of all layers not same, throw error\n",
    "    arr=np.zeros([*thresh_images[0].shape , len(thresh_images)])\n",
    "    for i in range(0,len(thresh_images)):\n",
    "        arr[:,:,i]=np.array(thresh_images[i])\n",
    "#     thresh_images=np.array([threshold(j) for j in gray_images])\n",
    "    \n",
    "    return arr"
   ]
  },
  {
   "cell_type": "code",
   "execution_count": 5,
   "id": "f6c6bb5c",
   "metadata": {},
   "outputs": [],
   "source": [
    "test=preprocess(image)"
   ]
  },
  {
   "cell_type": "code",
   "execution_count": 6,
   "id": "2b328b16",
   "metadata": {},
   "outputs": [
    {
     "data": {
      "text/plain": [
       "(512, 512, 243)"
      ]
     },
     "execution_count": 6,
     "metadata": {},
     "output_type": "execute_result"
    }
   ],
   "source": [
    "test.shape"
   ]
  },
  {
   "cell_type": "code",
   "execution_count": 7,
   "id": "ef597c91",
   "metadata": {},
   "outputs": [],
   "source": [
    "# Box counting"
   ]
  },
  {
   "cell_type": "code",
   "execution_count": 7,
   "id": "7de9ee20",
   "metadata": {},
   "outputs": [],
   "source": [
    "def boxcount(array):\n",
    "    arr_3d=array\n",
    "    # padding the image\n",
    "#     max_dim=np.max(arr_3d.shape)\n",
    "    max_dim = int(2**np.ceil(np.log2(np.max(arr_3d.shape))))\n",
    "    \n",
    "    out_test=np.pad(arr_3d, ((0, max_dim-arr_3d.shape[0]), (0, max_dim-arr_3d.shape[1]), (0, max_dim-arr_3d.shape[2])), 'constant')\n",
    "    \n",
    "    Ns=[]\n",
    "    max_box_size=int(np.floor(np.log2(np.min(out_test.shape))))\n",
    "    scales=np.logspace(max_box_size,1,num=max_box_size,base=2)\n",
    "    scales=np.floor(scales)\n",
    "    scales=np.unique(scales)\n",
    "    int_scales = scales.astype(int)\n",
    "    \n",
    "    temp_start = arr_3d\n",
    "    for scale in int_scales:\n",
    "        curr_dim = len(temp_start)\n",
    "        half_ = int(curr_dim/2)\n",
    "        temp_matrix = np.zeros((half_, half_, half_))\n",
    "        for k in range(0,curr_dim,2):\n",
    "            for m in range(0,curr_dim,2):\n",
    "                for n in range(0,curr_dim,2):\n",
    "                    if np.any(temp_start[k:k+2,m:m+2,n:n+2]):\n",
    "                        temp_matrix[int(k/2)][int(m/2)][int(n/2)]=1\n",
    "        Ns.append(np.count_nonzero(temp_matrix))\n",
    "        temp_start = temp_matrix\n",
    "        #print(Ns[-1])\n",
    "    Ns=np.array(Ns)\n",
    "    \n",
    "    coeffs = np.polyfit(np.log(1/scales), np.log(Ns),1)\n",
    "    fig, ax = plt.subplots(figsize = (8,6))\n",
    "    ax.scatter(np.log(1/scales), np.log(Ns), c = \"teal\", label = \"Measured ratios\")\n",
    "    ax.set_ylabel(\"$\\log N(\\epsilon)$\")\n",
    "    ax.set_xlabel(\"$\\log 1/ \\epsilon$\")\n",
    "    fitted_y_vals = np.polyval(coeffs, np.log(1/scales))\n",
    "    ax.plot(np.log(1/scales), fitted_y_vals, \"r\", label = f\"Fit: {np.round(coeffs[0],3)}X+{coeffs[1]}\")\n",
    "    ax.legend();\n",
    "    coeffs[0]"
   ]
  },
  {
   "cell_type": "code",
   "execution_count": 9,
   "id": "ce796460",
   "metadata": {},
   "outputs": [
    {
     "name": "stdout",
     "output_type": "stream",
     "text": [
      "CPU times: total: 3min 29s\n",
      "Wall time: 3min 41s\n"
     ]
    },
    {
     "data": {
      "image/png": "[encoded data removed]",
      "text/plain": [
       "<Figure size 576x432 with 1 Axes>"
      ]
     },
     "metadata": {
      "needs_background": "light"
     },
     "output_type": "display_data"
    }
   ],
   "source": [
    "%%time\n",
    "boxcount(test)"
   ]
  },
  {
   "cell_type": "code",
   "execution_count": null,
   "id": "a7c55057",
   "metadata": {},
   "outputs": [],
   "source": []
  },
  {
   "cell_type": "code",
   "execution_count": null,
   "id": "3d42e172",
   "metadata": {},
   "outputs": [],
   "source": []
  },
  {
   "cell_type": "code",
   "execution_count": null,
   "id": "4872693c",
   "metadata": {},
   "outputs": [],
   "source": []
  }
 ],
 "metadata": {
  "kernelspec": {
   "display_name": "Python 3 (ipykernel)",
   "language": "python",
   "name": "python3"
  },
  "language_info": {
   "codemirror_mode": {
    "name": "ipython",
    "version": 3
   },
   "file_extension": ".py",
   "mimetype": "text/x-python",
   "name": "python",
   "nbconvert_exporter": "python",
   "pygments_lexer": "ipython3",
   "version": "3.9.12"
  }
 },
 "nbformat": 4,
 "nbformat_minor": 5
}
